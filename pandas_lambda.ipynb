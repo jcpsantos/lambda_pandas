{
 "cells": [
  {
   "cell_type": "markdown",
   "metadata": {},
   "source": [
    "<center><h1 style:'color: blue;'>Treino Pandas com Lambda</h1></center>"
   ]
  },
  {
   "cell_type": "markdown",
   "metadata": {},
   "source": [
    "<h2>Criar um Dataframe com Pandas</h2>"
   ]
  },
  {
   "cell_type": "code",
   "execution_count": 1,
   "metadata": {},
   "outputs": [],
   "source": [
    "import pandas as pd\n",
    "pd.set_option('display.max_colwidth', -1)"
   ]
  },
  {
   "cell_type": "code",
   "execution_count": 2,
   "metadata": {},
   "outputs": [],
   "source": [
    "dt = pd.DataFrame([['Atendimento excelente, chega de coisa ruim no mercado','positivo'],\n",
    "                   ['Gostei muito do atendimento, estão de parabéns!!,recomendo muito!!','positivo'],\n",
    "                   ['É uma pena não ter estacionamento, isso prejudica demais!','negativo'],\n",
    "                   ['Achei que tinha estacionamento, isso quebrou minhas pernas','negativo'],\n",
    "                   ['Achei o preço salgado!.','negativo'],\n",
    "                   ['Comida muito boa, preço bom!!','positivo'],\n",
    "                   ['Preço bom e lugar aconchegante.','positivo']]\n",
    "                   , columns=['review','sentimento'])"
   ]
  },
  {
   "cell_type": "markdown",
   "metadata": {},
   "source": [
    "<h2>Criar função de frequência</h2>"
   ]
  },
  {
   "cell_type": "code",
   "execution_count": 3,
   "metadata": {},
   "outputs": [],
   "source": [
    "def word_count(review, word):\n",
    "    cont = 0\n",
    "    review = review.lower()\n",
    "    if word in review.lower():\n",
    "        return review.count(word)\n",
    "    else:\n",
    "        return 0"
   ]
  },
  {
   "cell_type": "markdown",
   "metadata": {},
   "source": [
    "<h2>Criar colunas com frequências</h2>"
   ]
  },
  {
   "cell_type": "code",
   "execution_count": 4,
   "metadata": {},
   "outputs": [],
   "source": [
    "dt['atendimento'] = dt['review'].apply(lambda x: word_count(x, 'atendimento'))\n",
    "dt['estacionamento'] = dt['review'].apply(lambda x: word_count(x, 'estacionamento'))\n",
    "dt['preço'] = dt['review'].apply(lambda x: word_count(x, 'preço'))\n",
    "dt['comida'] = dt['review'].apply(lambda x: word_count(x, 'comida'))"
   ]
  },
  {
   "cell_type": "markdown",
   "metadata": {},
   "source": [
    "<h2>Exibir dataset</h2>"
   ]
  },
  {
   "cell_type": "code",
   "execution_count": 5,
   "metadata": {},
   "outputs": [
    {
     "data": {
      "text/html": [
       "<div>\n",
       "<style scoped>\n",
       "    .dataframe tbody tr th:only-of-type {\n",
       "        vertical-align: middle;\n",
       "    }\n",
       "\n",
       "    .dataframe tbody tr th {\n",
       "        vertical-align: top;\n",
       "    }\n",
       "\n",
       "    .dataframe thead th {\n",
       "        text-align: right;\n",
       "    }\n",
       "</style>\n",
       "<table border=\"1\" class=\"dataframe\">\n",
       "  <thead>\n",
       "    <tr style=\"text-align: right;\">\n",
       "      <th></th>\n",
       "      <th>review</th>\n",
       "      <th>sentimento</th>\n",
       "      <th>atendimento</th>\n",
       "      <th>estacionamento</th>\n",
       "      <th>preço</th>\n",
       "      <th>comida</th>\n",
       "    </tr>\n",
       "  </thead>\n",
       "  <tbody>\n",
       "    <tr>\n",
       "      <th>0</th>\n",
       "      <td>Atendimento excelente, chega de coisa ruim no mercado</td>\n",
       "      <td>positivo</td>\n",
       "      <td>1</td>\n",
       "      <td>0</td>\n",
       "      <td>0</td>\n",
       "      <td>0</td>\n",
       "    </tr>\n",
       "    <tr>\n",
       "      <th>1</th>\n",
       "      <td>Gostei muito do atendimento, estão de parabéns!!,recomendo muito!!</td>\n",
       "      <td>positivo</td>\n",
       "      <td>1</td>\n",
       "      <td>0</td>\n",
       "      <td>0</td>\n",
       "      <td>0</td>\n",
       "    </tr>\n",
       "    <tr>\n",
       "      <th>2</th>\n",
       "      <td>É uma pena não ter estacionamento, isso prejudica demais!</td>\n",
       "      <td>negativo</td>\n",
       "      <td>0</td>\n",
       "      <td>1</td>\n",
       "      <td>0</td>\n",
       "      <td>0</td>\n",
       "    </tr>\n",
       "    <tr>\n",
       "      <th>3</th>\n",
       "      <td>Achei que tinha estacionamento, isso quebrou minhas pernas</td>\n",
       "      <td>negativo</td>\n",
       "      <td>0</td>\n",
       "      <td>1</td>\n",
       "      <td>0</td>\n",
       "      <td>0</td>\n",
       "    </tr>\n",
       "    <tr>\n",
       "      <th>4</th>\n",
       "      <td>Achei o preço salgado!.</td>\n",
       "      <td>negativo</td>\n",
       "      <td>0</td>\n",
       "      <td>0</td>\n",
       "      <td>1</td>\n",
       "      <td>0</td>\n",
       "    </tr>\n",
       "    <tr>\n",
       "      <th>5</th>\n",
       "      <td>Comida muito boa, preço bom!!</td>\n",
       "      <td>positivo</td>\n",
       "      <td>0</td>\n",
       "      <td>0</td>\n",
       "      <td>1</td>\n",
       "      <td>1</td>\n",
       "    </tr>\n",
       "    <tr>\n",
       "      <th>6</th>\n",
       "      <td>Preço bom e lugar aconchegante.</td>\n",
       "      <td>positivo</td>\n",
       "      <td>0</td>\n",
       "      <td>0</td>\n",
       "      <td>1</td>\n",
       "      <td>0</td>\n",
       "    </tr>\n",
       "  </tbody>\n",
       "</table>\n",
       "</div>"
      ],
      "text/plain": [
       "                                                               review  \\\n",
       "0  Atendimento excelente, chega de coisa ruim no mercado                \n",
       "1  Gostei muito do atendimento, estão de parabéns!!,recomendo muito!!   \n",
       "2  É uma pena não ter estacionamento, isso prejudica demais!            \n",
       "3  Achei que tinha estacionamento, isso quebrou minhas pernas           \n",
       "4  Achei o preço salgado!.                                              \n",
       "5  Comida muito boa, preço bom!!                                        \n",
       "6  Preço bom e lugar aconchegante.                                      \n",
       "\n",
       "  sentimento  atendimento  estacionamento  preço  comida  \n",
       "0  positivo   1            0               0      0       \n",
       "1  positivo   1            0               0      0       \n",
       "2  negativo   0            1               0      0       \n",
       "3  negativo   0            1               0      0       \n",
       "4  negativo   0            0               1      0       \n",
       "5  positivo   0            0               1      1       \n",
       "6  positivo   0            0               1      0       "
      ]
     },
     "execution_count": 5,
     "metadata": {},
     "output_type": "execute_result"
    }
   ],
   "source": [
    "dt"
   ]
  },
  {
   "cell_type": "markdown",
   "metadata": {},
   "source": [
    "<h2>Exibir agrupamento de colunas</h2>"
   ]
  },
  {
   "cell_type": "code",
   "execution_count": 6,
   "metadata": {},
   "outputs": [
    {
     "data": {
      "text/html": [
       "<div>\n",
       "<style scoped>\n",
       "    .dataframe tbody tr th:only-of-type {\n",
       "        vertical-align: middle;\n",
       "    }\n",
       "\n",
       "    .dataframe tbody tr th {\n",
       "        vertical-align: top;\n",
       "    }\n",
       "\n",
       "    .dataframe thead th {\n",
       "        text-align: right;\n",
       "    }\n",
       "</style>\n",
       "<table border=\"1\" class=\"dataframe\">\n",
       "  <thead>\n",
       "    <tr style=\"text-align: right;\">\n",
       "      <th></th>\n",
       "      <th>atendimento</th>\n",
       "      <th>estacionamento</th>\n",
       "      <th>preço</th>\n",
       "      <th>comida</th>\n",
       "    </tr>\n",
       "    <tr>\n",
       "      <th>sentimento</th>\n",
       "      <th></th>\n",
       "      <th></th>\n",
       "      <th></th>\n",
       "      <th></th>\n",
       "    </tr>\n",
       "  </thead>\n",
       "  <tbody>\n",
       "    <tr>\n",
       "      <th>negativo</th>\n",
       "      <td>0</td>\n",
       "      <td>2</td>\n",
       "      <td>1</td>\n",
       "      <td>0</td>\n",
       "    </tr>\n",
       "    <tr>\n",
       "      <th>positivo</th>\n",
       "      <td>2</td>\n",
       "      <td>0</td>\n",
       "      <td>2</td>\n",
       "      <td>1</td>\n",
       "    </tr>\n",
       "  </tbody>\n",
       "</table>\n",
       "</div>"
      ],
      "text/plain": [
       "            atendimento  estacionamento  preço  comida\n",
       "sentimento                                            \n",
       "negativo    0            2               1      0     \n",
       "positivo    2            0               2      1     "
      ]
     },
     "execution_count": 6,
     "metadata": {},
     "output_type": "execute_result"
    }
   ],
   "source": [
    "\n",
    "dt.groupby('sentimento')[dt.columns].sum()"
   ]
  },
  {
   "cell_type": "code",
   "execution_count": null,
   "metadata": {},
   "outputs": [],
   "source": []
  }
 ],
 "metadata": {
  "kernelspec": {
   "display_name": "Python 3",
   "language": "python",
   "name": "python3"
  },
  "language_info": {
   "codemirror_mode": {
    "name": "ipython",
    "version": 3
   },
   "file_extension": ".py",
   "mimetype": "text/x-python",
   "name": "python",
   "nbconvert_exporter": "python",
   "pygments_lexer": "ipython3",
   "version": "3.6.6"
  }
 },
 "nbformat": 4,
 "nbformat_minor": 2
}
